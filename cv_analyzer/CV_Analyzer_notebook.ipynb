{
 "cells": [
  {
   "cell_type": "code",
   "execution_count": 1,
   "id": "50b98a50",
   "metadata": {},
   "outputs": [
    {
     "name": "stdout",
     "output_type": "stream",
     "text": [
      "67 files loaded\n",
      "4 files selected\n"
     ]
    }
   ],
   "source": [
    "import glob\n",
    "import matplotlib.pyplot as plt\n",
    "from datapackage import Package\n",
    "from cv_analyzer import filter_db, get_exp_CV_data\n",
    "\n",
    "# apply matplotlib style\n",
    "plt.style.use('seaborn-whitegrid')\n",
    "\n",
    "# filter for datapackages\n",
    "# empty means that no filter is applied\n",
    "# filtered, if one of the elements in a category (e.g. components) is True. \n",
    "metal = ['Pt']\n",
    "hkl = []\n",
    "component = []\n",
    "author_name = ['Li']\n",
    "exclude_author = []\n",
    "\n",
    "selxn = filter_db(\n",
    "    metal,\n",
    "    hkl,\n",
    "    component,\n",
    "    author_name = author_name,\n",
    "    exclude_author = exclude_author)\n",
    "\n",
    "%matplotlib qt"
   ]
  },
  {
   "cell_type": "code",
   "execution_count": 3,
   "id": "f98d3f60",
   "metadata": {
    "scrolled": false
   },
   "outputs": [
    {
     "data": {
      "text/plain": [
       "<matplotlib.legend.Legend at 0x7fc5f3d5a910>"
      ]
     },
     "execution_count": 3,
     "metadata": {},
     "output_type": "execute_result"
    }
   ],
   "source": [
    "# generic plot\n",
    "for i in selxn:\n",
    "    fig = i.plot(target_RE='RHE', C_exp=True, atomic=False, c_corr=False)\n",
    "fig.legend()"
   ]
  },
  {
   "cell_type": "code",
   "execution_count": 2,
   "id": "d748ab64",
   "metadata": {},
   "outputs": [
    {
     "data": {
      "text/plain": [
       "<matplotlib.legend.Legend at 0x7f8a380f5b80>"
      ]
     },
     "execution_count": 2,
     "metadata": {},
     "output_type": "execute_result"
    }
   ],
   "source": [
    "# charge integration\n",
    "for i in selxn:\n",
    "    fig, fig2, fig3 = i.charge_int(\n",
    "        lower_lim=-0.3, upper_lim=0.5, target_RE='SCE', atomic=False)\n",
    "fig.legend()\n",
    "fig2.legend()\n",
    "fig3.legend()"
   ]
  },
  {
   "cell_type": "code",
   "execution_count": 2,
   "id": "02e1a370",
   "metadata": {},
   "outputs": [
    {
     "name": "stdout",
     "output_type": "stream",
     "text": [
      "Maximum: U = 0.08, j = 15.84             Minimum U = -16.68, j = -16.68             Endo_1999_In-situ_19_p1_1a_flat\n",
      "Maximum: U = 0.05, j = 11.84             Minimum U = -12.24, j = -12.24             Wang_1997_Lateral_1_p1_1a\n",
      "Maximum: U = 0.2, j = 1.44             Minimum U = -1.63, j = -1.63             Hamad_2003_Electrosorption_211_p2_1a_solid\n",
      "Maximum: U = 0.07, j = 2.49             Minimum U = -2.45, j = -2.45             Nakamura_2011_Structure_165433_p1_1b_red\n",
      "Maximum: U = 0.05, j = 2.41             Minimum U = -2.62, j = -2.62             Nakamura_2011_Structure_165433_p1_1a_blue\n",
      "Maximum: U = 0.15, j = 2.28             Minimum U = -2.14, j = -2.14             Jovic_1999_Cyclic_247_p4_7_dashed\n",
      "Maximum: U = 0.07, j = 6.24             Minimum U = -9.39, j = -9.39             Endo_1999_In-situ_19_p1_1b_bold\n",
      "Maximum: U = -0.01, j = 2.5             Minimum U = -2.58, j = -2.58             Nakamura_2014_Structural_22136_p1_1_inset\n",
      "Maximum: U = -0.02, j = 2.42             Minimum U = -2.62, j = -2.62             Nakamura_2011_Structure_165433_p1_1a_red\n",
      "Maximum: U = 0.1, j = 2.43             Minimum U = -2.44, j = -2.44             Nakamura_2011_Structure_165433_p1_1b_blue\n",
      "Maximum: U = 0.01, j = 2.44             Minimum U = -2.54, j = -2.54             Nakamura_2011_Structure_165433_p1_1a_green\n",
      "Maximum: U = 0.04, j = 12.38             Minimum U = -12.13, j = -12.13             Ocko_1997_Halide_55_p6_6a\n",
      "Maximum: U = -0.0, j = 0.63             Minimum U = -0.76, j = -0.76             Hamad_2003_Electrosorption_211_p2_1a_dotted\n"
     ]
    },
    {
     "data": {
      "text/plain": [
       "<matplotlib.legend.Legend at 0x7f959c9bdd30>"
      ]
     },
     "execution_count": 2,
     "metadata": {},
     "output_type": "execute_result"
    }
   ],
   "source": [
    "# max and min\n",
    "for i in selxn:\n",
    "    fig = i.max_min(\n",
    "        lower_lim=-0.2,\n",
    "        upper_lim=0.2,\n",
    "        target_RE='pzc',\n",
    "        capac=True)  # lower and upper limit in V\n",
    "fig.legend()"
   ]
  },
  {
   "cell_type": "code",
   "execution_count": 2,
   "id": "6ddf10ca",
   "metadata": {},
   "outputs": [
    {
     "data": {
      "text/plain": [
       "3"
      ]
     },
     "execution_count": 2,
     "metadata": {},
     "output_type": "execute_result"
    }
   ],
   "source": [
    "# get data of selected object as numpy array\n",
    "# Units are\n",
    "    # U in V vs target reference (target_RE)\n",
    "    # j in \n",
    "        # µA/cm² if capac=False and atomic=False\n",
    "        # µF/cm² if capac=True and atomic=False\n",
    "        # µF/atom if capac=True and atomic=True\n",
    "        # µA/atom if capac=False and atomic=True\n",
    "        \n",
    "# get info for selected object\n",
    "# printed scan rate is the original scan rate!\n",
    "s = 1\n",
    "print(selxn[s].label)\n",
    "\n",
    "get_exp_CV_data(selxn[s], target_RE='SHE', C_exp=False, atomic=False, c_corr=False)"
   ]
  },
  {
   "cell_type": "code",
   "execution_count": 14,
   "id": "75888301",
   "metadata": {},
   "outputs": [
    {
     "name": "stdout",
     "output_type": "stream",
     "text": [
      "no_check\n"
     ]
    }
   ],
   "source": [
    "if selxn[0].electrolyte_unit[1] == 'mM':\n",
    "    print('check')\n",
    "else:\n",
    "    print('no_check')"
   ]
  },
  {
   "cell_type": "code",
   "execution_count": 5,
   "id": "d3c8976f",
   "metadata": {},
   "outputs": [
    {
     "data": {
      "text/plain": [
       "range(0, 2)"
      ]
     },
     "execution_count": 5,
     "metadata": {},
     "output_type": "execute_result"
    }
   ],
   "source": [
    "range(len(selxn[0].electrolyte_name))"
   ]
  },
  {
   "cell_type": "code",
   "execution_count": 12,
   "id": "ffa0f84e",
   "metadata": {},
   "outputs": [
    {
     "data": {
      "text/plain": [
       "['M', 'mM']"
      ]
     },
     "execution_count": 12,
     "metadata": {},
     "output_type": "execute_result"
    }
   ],
   "source": [
    "selxn[5].electrolyte_unit"
   ]
  },
  {
   "cell_type": "code",
   "execution_count": 3,
   "id": "b499fd0b",
   "metadata": {},
   "outputs": [
    {
     "data": {
      "text/plain": [
       "'Gomez-Marin_2012_surface_558_p2_blue'"
      ]
     },
     "execution_count": 3,
     "metadata": {},
     "output_type": "execute_result"
    }
   ],
   "source": [
    "selxn[3].name"
   ]
  },
  {
   "cell_type": "code",
   "execution_count": 4,
   "id": "bb7d3ab5",
   "metadata": {},
   "outputs": [
    {
     "data": {
      "text/plain": [
       "['HClO4', None]"
      ]
     },
     "execution_count": 4,
     "metadata": {},
     "output_type": "execute_result"
    }
   ],
   "source": [
    "selxn[3].electrolyte_name"
   ]
  },
  {
   "cell_type": "code",
   "execution_count": 6,
   "id": "c404aa8b",
   "metadata": {},
   "outputs": [
    {
     "data": {
      "text/plain": [
       "'V / s'"
      ]
     },
     "execution_count": 6,
     "metadata": {},
     "output_type": "execute_result"
    }
   ],
   "source": [
    "selxn[3].scan_rate_unit"
   ]
  },
  {
   "cell_type": "code",
   "execution_count": 5,
   "id": "879c14a2",
   "metadata": {},
   "outputs": [
    {
     "data": {
      "text/plain": [
       "3"
      ]
     },
     "execution_count": 5,
     "metadata": {},
     "output_type": "execute_result"
    }
   ],
   "source": [
    "selxn[0].pH"
   ]
  },
  {
   "cell_type": "code",
   "execution_count": 6,
   "id": "461c93c6",
   "metadata": {},
   "outputs": [
    {
     "data": {
      "text/plain": [
       "298.15"
      ]
     },
     "execution_count": 6,
     "metadata": {},
     "output_type": "execute_result"
    }
   ],
   "source": [
    "selxn[0].T"
   ]
  },
  {
   "cell_type": "code",
   "execution_count": null,
   "id": "ce85361b",
   "metadata": {},
   "outputs": [],
   "source": []
  }
 ],
 "metadata": {
  "kernelspec": {
   "display_name": "Python 3 (ipykernel)",
   "language": "python",
   "name": "python3"
  },
  "language_info": {
   "codemirror_mode": {
    "name": "ipython",
    "version": 3
   },
   "file_extension": ".py",
   "mimetype": "text/x-python",
   "name": "python",
   "nbconvert_exporter": "python",
   "pygments_lexer": "ipython3",
   "version": "3.9.7"
  }
 },
 "nbformat": 4,
 "nbformat_minor": 5
}
