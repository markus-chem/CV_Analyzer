{
 "cells": [
  {
   "cell_type": "code",
   "execution_count": 1,
   "id": "50b98a50",
   "metadata": {},
   "outputs": [
    {
     "name": "stdout",
     "output_type": "stream",
     "text": [
      "67 files loaded\n",
      "4 files selected\n"
     ]
    }
   ],
   "source": [
    "import glob\n",
    "import matplotlib.pyplot as plt\n",
    "from datapackage import Package\n",
    "from cv_analyzer import filter_db, get_exp_CV_data\n",
    "\n",
    "# apply matplotlib style\n",
    "plt.style.use('seaborn-whitegrid')\n",
    "\n",
    "# filter for datapackages\n",
    "# empty means that no filter is applied\n",
    "# filtered, if one of the elements in a category (e.g. components) is True. \n",
    "metal = ['Pt']\n",
    "hkl = []\n",
    "component = []\n",
    "author_name = ['Li']\n",
    "exclude_author = []\n",
    "\n",
    "selxn = filter_db(\n",
    "    metal,\n",
    "    hkl,\n",
    "    component,\n",
    "    author_name = author_name,\n",
    "    exclude_author = exclude_author)\n",
    "\n",
    "%matplotlib qt"
   ]
  },
  {
   "cell_type": "code",
   "execution_count": 3,
   "id": "f98d3f60",
   "metadata": {
    "scrolled": false
   },
   "outputs": [
    {
     "data": {
      "text/plain": [
       "<matplotlib.legend.Legend at 0x7f9095853d60>"
      ]
     },
     "execution_count": 3,
     "metadata": {},
     "output_type": "execute_result"
    }
   ],
   "source": [
    "# generic plot\n",
    "for i in selxn:\n",
    "    fig = i.plot(target_RE='SCE', C_exp=False, atomic=False, c_corr=False)\n",
    "fig.legend()"
   ]
  },
  {
   "cell_type": "code",
   "execution_count": 2,
   "id": "d748ab64",
   "metadata": {},
   "outputs": [
    {
     "data": {
      "text/plain": [
       "<matplotlib.legend.Legend at 0x7f8a380f5b80>"
      ]
     },
     "execution_count": 2,
     "metadata": {},
     "output_type": "execute_result"
    }
   ],
   "source": [
    "# charge integration\n",
    "for i in selxn:\n",
    "    fig, fig2, fig3 = i.charge_int(\n",
    "        lower_lim=-0.3, upper_lim=0.5, target_RE='SCE', atomic=False)\n",
    "fig.legend()\n",
    "fig2.legend()\n",
    "fig3.legend()"
   ]
  },
  {
   "cell_type": "code",
   "execution_count": 2,
   "id": "02e1a370",
   "metadata": {},
   "outputs": [
    {
     "name": "stdout",
     "output_type": "stream",
     "text": [
      "Maximum: U = 0.08, j = 15.84             Minimum U = -16.68, j = -16.68             Endo_1999_In-situ_19_p1_1a_flat\n",
      "Maximum: U = 0.05, j = 11.84             Minimum U = -12.24, j = -12.24             Wang_1997_Lateral_1_p1_1a\n",
      "Maximum: U = 0.2, j = 1.44             Minimum U = -1.63, j = -1.63             Hamad_2003_Electrosorption_211_p2_1a_solid\n",
      "Maximum: U = 0.07, j = 2.49             Minimum U = -2.45, j = -2.45             Nakamura_2011_Structure_165433_p1_1b_red\n",
      "Maximum: U = 0.05, j = 2.41             Minimum U = -2.62, j = -2.62             Nakamura_2011_Structure_165433_p1_1a_blue\n",
      "Maximum: U = 0.15, j = 2.28             Minimum U = -2.14, j = -2.14             Jovic_1999_Cyclic_247_p4_7_dashed\n",
      "Maximum: U = 0.07, j = 6.24             Minimum U = -9.39, j = -9.39             Endo_1999_In-situ_19_p1_1b_bold\n",
      "Maximum: U = -0.01, j = 2.5             Minimum U = -2.58, j = -2.58             Nakamura_2014_Structural_22136_p1_1_inset\n",
      "Maximum: U = -0.02, j = 2.42             Minimum U = -2.62, j = -2.62             Nakamura_2011_Structure_165433_p1_1a_red\n",
      "Maximum: U = 0.1, j = 2.43             Minimum U = -2.44, j = -2.44             Nakamura_2011_Structure_165433_p1_1b_blue\n",
      "Maximum: U = 0.01, j = 2.44             Minimum U = -2.54, j = -2.54             Nakamura_2011_Structure_165433_p1_1a_green\n",
      "Maximum: U = 0.04, j = 12.38             Minimum U = -12.13, j = -12.13             Ocko_1997_Halide_55_p6_6a\n",
      "Maximum: U = -0.0, j = 0.63             Minimum U = -0.76, j = -0.76             Hamad_2003_Electrosorption_211_p2_1a_dotted\n"
     ]
    },
    {
     "data": {
      "text/plain": [
       "<matplotlib.legend.Legend at 0x7f959c9bdd30>"
      ]
     },
     "execution_count": 2,
     "metadata": {},
     "output_type": "execute_result"
    }
   ],
   "source": [
    "# max and min\n",
    "for i in selxn:\n",
    "    fig = i.max_min(\n",
    "        lower_lim=-0.2,\n",
    "        upper_lim=0.2,\n",
    "        target_RE='pzc',\n",
    "        capac=True)  # lower and upper limit in V\n",
    "fig.legend()"
   ]
  },
  {
   "cell_type": "code",
   "execution_count": 2,
   "id": "6ddf10ca",
   "metadata": {},
   "outputs": [
    {
     "data": {
      "text/plain": [
       "3"
      ]
     },
     "execution_count": 2,
     "metadata": {},
     "output_type": "execute_result"
    }
   ],
   "source": [
    "# get data of selected object as numpy array\n",
    "# Units are\n",
    "    # U in V vs target reference (target_RE)\n",
    "    # j in \n",
    "        # µA/cm² if capac=False and atomic=False\n",
    "        # µF/cm² if capac=True and atomic=False\n",
    "        # µF/atom if capac=True and atomic=True\n",
    "        # µA/atom if capac=False and atomic=True\n",
    "        \n",
    "# get info for selected object\n",
    "# printed scan rate is the original scan rate!\n",
    "s = 1\n",
    "print(selxn[s].label)\n",
    "\n",
    "get_exp_CV_data(selxn[s], target_RE='SHE', C_exp=False, atomic=False, c_corr=False)"
   ]
  }
 ],
 "metadata": {
  "kernelspec": {
   "display_name": "Python 3 (ipykernel)",
   "language": "python",
   "name": "python3"
  },
  "language_info": {
   "codemirror_mode": {
    "name": "ipython",
    "version": 3
   },
   "file_extension": ".py",
   "mimetype": "text/x-python",
   "name": "python",
   "nbconvert_exporter": "python",
   "pygments_lexer": "ipython3",
   "version": "3.9.7"
  }
 },
 "nbformat": 4,
 "nbformat_minor": 5
}
