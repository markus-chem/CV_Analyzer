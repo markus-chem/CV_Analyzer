{
 "cells": [
  {
   "cell_type": "code",
   "execution_count": 1,
   "id": "bc82d1f2",
   "metadata": {},
   "outputs": [
    {
     "name": "stdout",
     "output_type": "stream",
     "text": [
      "53 files loaded\n",
      "13 files selected\n"
     ]
    }
   ],
   "source": [
    "import glob\n",
    "import matplotlib.pyplot as plt\n",
    "from datapackage import Package\n",
    "from CV_Analyzer import CV_Analyzer_class, filter_db, get_exp_CV_data\n",
    "\n",
    "# apply matplotlib style\n",
    "plt.style.use('seaborn-whitegrid')\n",
    "\n",
    "# list all .json files\n",
    "files = glob.glob('database/*.json')\n",
    "print(f'{len(files)} files loaded')\n",
    "\n",
    "# filter for datapackages\n",
    "# empty bracktes mean that no filter is applied\n",
    "metal = ['Ag']\n",
    "lattice_plane = ['100']\n",
    "component = []\n",
    "author_name = []\n",
    "not_this_name = ['Rehim']\n",
    "\n",
    "selxn = filter_db(\n",
    "    files,\n",
    "    metal,\n",
    "    lattice_plane,\n",
    "    component,\n",
    "    author_name,\n",
    "    not_this_name)\n",
    "\n",
    "%matplotlib qt"
   ]
  },
  {
   "cell_type": "code",
   "execution_count": 2,
   "id": "ecd4865d",
   "metadata": {},
   "outputs": [
    {
     "data": {
      "text/plain": [
       "<matplotlib.legend.Legend at 0x7f722559ed30>"
      ]
     },
     "execution_count": 2,
     "metadata": {},
     "output_type": "execute_result"
    }
   ],
   "source": [
    "# generic plot\n",
    "for i in selxn:\n",
    "    fig = i.plot(target_RE='pzc', capac=False, atomic=True, conc_corr=False)\n",
    "fig.legend()"
   ]
  },
  {
   "cell_type": "code",
   "execution_count": 3,
   "id": "26581fc4",
   "metadata": {},
   "outputs": [
    {
     "name": "stdout",
     "output_type": "stream",
     "text": [
      "Ag(100) in ['10 mM KBr', '40 mM KClO4'] at 10.0 mV / s; Wang_1997_Lateral_1_p1_1a\n"
     ]
    },
    {
     "data": {
      "text/plain": [
       "(array([-1.10500423, -1.07869947, -1.04849773, -1.01339972, -0.99196625,\n",
       "        -0.96079022, -0.95007351, -0.93448547, -0.91302701, -0.89549053,\n",
       "        -0.87697977, -0.8497008 , -0.82339599, -0.79511782, -0.76686451,\n",
       "        -0.74153404, -0.714255  , -0.68013128, -0.65187803, -0.62752184,\n",
       "        -0.60316558, -0.58268129, -0.57488729, -0.57001602, -0.56611902,\n",
       "        -0.56124781, -0.55637659, -0.54955682, -0.53202034, -0.51350958,\n",
       "        -0.4940246 , -0.46964331, -0.44236434, -0.4150853 , -0.39170339,\n",
       "        -0.36829644, -0.3429659 , -0.32153243, -0.28645934, -0.26012955,\n",
       "        -0.23577342, -0.21239144, -0.20752011, -0.20654583, -0.24746435,\n",
       "        -0.2884079 , -0.32055815, -0.3634251 , -0.38780633, -0.41021409,\n",
       "        -0.42969907, -0.45210689, -0.47548886, -0.49302534, -0.51058686,\n",
       "        -0.53007184, -0.54371133, -0.55637659, -0.56514487, -0.57001602,\n",
       "        -0.57586157, -0.58950106, -0.60316558, -0.63726427, -0.683054  ,\n",
       "        -0.72594599, -0.76783879, -0.80875724, -0.83995825, -0.88769654,\n",
       "        -0.91789823, -0.94227952, -0.97540398, -1.00463151, -1.05044622,\n",
       "        -1.08357069, -1.10695272, -1.10500423]),\n",
       " array([ 0.01058267,  0.01323301,  0.01852309,  0.0231558 ,  0.02911376,\n",
       "         0.03440385,  0.03771143,  0.04432664,  0.05491736,  0.06153257,\n",
       "         0.06880507,  0.07543091,  0.07807062,  0.07873849,  0.07873849,\n",
       "         0.0760882 ,  0.0760882 ,  0.07278057,  0.07212328,  0.07476303,\n",
       "         0.08270341,  0.09196896,  0.1012345 ,  0.11181459,  0.11777251,\n",
       "         0.11844043,  0.10850696,  0.09858417,  0.08402858,  0.07212328,\n",
       "         0.05955011,  0.0463091 ,  0.03307868,  0.0231558 ,  0.01984826,\n",
       "         0.01587276,  0.0138903 ,  0.0138903 ,  0.01323301,  0.01256513,\n",
       "         0.01190784,  0.01256513,  0.01190784, -0.01456363, -0.01389576,\n",
       "        -0.01522092, -0.01522092, -0.01787122, -0.01919638, -0.02382918,\n",
       "        -0.02646889, -0.03440931, -0.04565727, -0.05426557, -0.06682811,\n",
       "        -0.07676149, -0.08602708, -0.09462475, -0.10189721, -0.11183068,\n",
       "        -0.12241076, -0.10719788, -0.09264229, -0.07940124, -0.07609366,\n",
       "        -0.08139429, -0.08668437, -0.09131712, -0.09064925, -0.08139429,\n",
       "        -0.06947845, -0.05690528, -0.04301756, -0.03507718, -0.02911922,\n",
       "        -0.02712618, -0.02580101,  0.01058267]))"
      ]
     },
     "execution_count": 3,
     "metadata": {},
     "output_type": "execute_result"
    }
   ],
   "source": [
    "# get data of selected object as numpy array\n",
    "# Units are\n",
    "    # U in V vs target reference (target_RE)\n",
    "    # j in \n",
    "        # A/m² if capac=False and atomic=False\n",
    "        # F/m² if capac=True and atomic=False\n",
    "        # F/atom if capac=True and atomic=True\n",
    "        # A/atom if capac=False and atomic=True\n",
    "        \n",
    "# get info for selected object\n",
    "# printed scan rate is the original scan rate!\n",
    "s = 1\n",
    "print(selxn[s].label)\n",
    "\n",
    "get_exp_CV_data(selxn[s], target_RE='SHE', capac=False, atomic=False, conc_corr=False)"
   ]
  },
  {
   "cell_type": "code",
   "execution_count": 5,
   "id": "a7dda2d4",
   "metadata": {},
   "outputs": [
    {
     "data": {
      "text/plain": [
       "<matplotlib.legend.Legend at 0x7f7219d7ffd0>"
      ]
     },
     "execution_count": 5,
     "metadata": {},
     "output_type": "execute_result"
    }
   ],
   "source": [
    "# charge integration\n",
    "for i in selxn:\n",
    "    fig, fig2, fig3 = i.charge_int(\n",
    "        lower_lim=-0.2, upper_lim=0.2, target_RE='pzc', atomic=True)\n",
    "fig.legend()\n",
    "fig2.legend()\n",
    "fig3.legend()"
   ]
  },
  {
   "cell_type": "code",
   "execution_count": 2,
   "id": "5136d5ed",
   "metadata": {},
   "outputs": [
    {
     "name": "stdout",
     "output_type": "stream",
     "text": [
      "Maximum: U = 0.08, j = 15.84             Minimum U = -16.68, j = -16.68             Endo_1999_In-situ_19_p1_1a_flat\n",
      "Maximum: U = 0.05, j = 11.84             Minimum U = -12.24, j = -12.24             Wang_1997_Lateral_1_p1_1a\n",
      "Maximum: U = 0.2, j = 1.44             Minimum U = -1.63, j = -1.63             Hamad_2003_Electrosorption_211_p2_1a_solid\n",
      "Maximum: U = 0.07, j = 2.49             Minimum U = -2.45, j = -2.45             Nakamura_2011_Structure_165433_p1_1b_red\n",
      "Maximum: U = 0.05, j = 2.41             Minimum U = -2.62, j = -2.62             Nakamura_2011_Structure_165433_p1_1a_blue\n",
      "Maximum: U = 0.15, j = 2.28             Minimum U = -2.14, j = -2.14             Jovic_1999_Cyclic_247_p4_7_dashed\n",
      "Maximum: U = 0.07, j = 6.24             Minimum U = -9.39, j = -9.39             Endo_1999_In-situ_19_p1_1b_bold\n",
      "Maximum: U = -0.01, j = 2.5             Minimum U = -2.58, j = -2.58             Nakamura_2014_Structural_22136_p1_1_inset\n",
      "Maximum: U = -0.02, j = 2.42             Minimum U = -2.62, j = -2.62             Nakamura_2011_Structure_165433_p1_1a_red\n",
      "Maximum: U = 0.1, j = 2.43             Minimum U = -2.44, j = -2.44             Nakamura_2011_Structure_165433_p1_1b_blue\n",
      "Maximum: U = 0.01, j = 2.44             Minimum U = -2.54, j = -2.54             Nakamura_2011_Structure_165433_p1_1a_green\n",
      "Maximum: U = 0.04, j = 12.38             Minimum U = -12.13, j = -12.13             Ocko_1997_Halide_55_p6_6a\n",
      "Maximum: U = -0.0, j = 0.63             Minimum U = -0.76, j = -0.76             Hamad_2003_Electrosorption_211_p2_1a_dotted\n"
     ]
    },
    {
     "data": {
      "text/plain": [
       "<matplotlib.legend.Legend at 0x7f959c9bdd30>"
      ]
     },
     "execution_count": 2,
     "metadata": {},
     "output_type": "execute_result"
    }
   ],
   "source": [
    "# max and min\n",
    "for i in selxn:\n",
    "    fig = i.max_min(\n",
    "        lower_lim=-0.2,\n",
    "        upper_lim=0.2,\n",
    "        target_RE='pzc',\n",
    "        capac=True)  # lower and upper limit in V\n",
    "fig.legend()"
   ]
  },
  {
   "cell_type": "code",
   "execution_count": null,
   "id": "d2b25981",
   "metadata": {},
   "outputs": [],
   "source": []
  }
 ],
 "metadata": {
  "kernelspec": {
   "display_name": "Python 3 (ipykernel)",
   "language": "python",
   "name": "python3"
  },
  "language_info": {
   "codemirror_mode": {
    "name": "ipython",
    "version": 3
   },
   "file_extension": ".py",
   "mimetype": "text/x-python",
   "name": "python",
   "nbconvert_exporter": "python",
   "pygments_lexer": "ipython3",
   "version": "3.9.7"
  }
 },
 "nbformat": 4,
 "nbformat_minor": 5
}
